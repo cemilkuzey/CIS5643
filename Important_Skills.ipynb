{
  "nbformat": 4,
  "nbformat_minor": 0,
  "metadata": {
    "colab": {
      "provenance": [],
      "authorship_tag": "ABX9TyP0sG3Rz0chGWL0nPnTLJJp",
      "include_colab_link": true
    },
    "kernelspec": {
      "name": "python3",
      "display_name": "Python 3"
    },
    "language_info": {
      "name": "python"
    }
  },
  "cells": [
    {
      "cell_type": "markdown",
      "metadata": {
        "id": "view-in-github",
        "colab_type": "text"
      },
      "source": [
        "<a href=\"https://colab.research.google.com/github/cemilkuzey/CIS5643/blob/main/Important_Skills.ipynb\" target=\"_parent\"><img src=\"https://colab.research.google.com/assets/colab-badge.svg\" alt=\"Open In Colab\"/></a>"
      ]
    },
    {
      "cell_type": "code",
      "source": [
        "# Installing Jupyter notebook in spyder\n",
        "#conda install spyder-notebook -c conda-forge\n",
        "!pip install spyder-notebook"
      ],
      "metadata": {
        "id": "CuMkvikRwo64"
      },
      "execution_count": null,
      "outputs": []
    },
    {
      "cell_type": "markdown",
      "source": [
        "# Tuple unpacking\n",
        "is a feature in Python that allows you to assign the elements of a tuple to individual variables. Here's an example:"
      ],
      "metadata": {
        "id": "y0tJeAe_j4d8"
      }
    },
    {
      "cell_type": "code",
      "execution_count": null,
      "metadata": {
        "colab": {
          "base_uri": "https://localhost:8080/"
        },
        "id": "HGRQEz--jpXd",
        "outputId": "39c98a26-9319-4663-bd27-8e282f7164c7"
      },
      "outputs": [
        {
          "output_type": "stream",
          "name": "stdout",
          "text": [
            "x: 10\n",
            "y: 20\n",
            "z: 30\n"
          ]
        }
      ],
      "source": [
        "# Define a tuple\n",
        "tuple_example = (10, 20, 30)\n",
        "\n",
        "# Unpack the tuple into individual variables\n",
        "x, y, z = tuple_example\n",
        "\n",
        "# Print the values of the variables\n",
        "print(\"x:\", x)  # Output: x: 10\n",
        "print(\"y:\", y)  # Output: y: 20\n",
        "print(\"z:\", z)  # Output: z: 30\n"
      ]
    },
    {
      "cell_type": "code",
      "source": [
        "#Getting help via python\n",
        "import pandas as pd\n",
        "dir(pd)\n",
        "\n",
        "import math\n",
        "dir(math)\n",
        "help(math.acos)\n",
        "math.acos?"
      ],
      "metadata": {
        "colab": {
          "base_uri": "https://localhost:8080/"
        },
        "id": "2P_5yqxItT7e",
        "outputId": "5c99c2f1-2593-431c-cf0e-12eb44322bed"
      },
      "execution_count": null,
      "outputs": [
        {
          "output_type": "stream",
          "name": "stdout",
          "text": [
            "Help on built-in function acos in module math:\n",
            "\n",
            "acos(x, /)\n",
            "    Return the arc cosine (measured in radians) of x.\n",
            "    \n",
            "    The result is between 0 and pi.\n",
            "\n"
          ]
        }
      ]
    },
    {
      "cell_type": "markdown",
      "source": [
        "# Getting Help\n",
        "https://clouds.eos.ubc.ca/~phil/docs/problem_solving/02-Jupyter-Notebooks/02.07-Getting-Help-in-a-Jupyter-Notebook.html#:~:text=%2C%20're'%5D-,Get%20help%20using%20Tab,list%20to%20certain%20starting%20letters.\n"
      ],
      "metadata": {
        "id": "kTVcO2Pktj7h"
      }
    },
    {
      "cell_type": "markdown",
      "source": [
        "# Generator Comprehension"
      ],
      "metadata": {
        "id": "GI3ZxZ6BxDc3"
      }
    },
    {
      "cell_type": "code",
      "source": [
        "# Generator comprehension to generate squares of numbers from 1 to 5\n",
        "squared_gen = (x ** 2 for x in range(1, 6))\n",
        "\n",
        "# Iterating over the generator and printing the squares\n",
        "for square in squared_gen:\n",
        "    print(square)\n"
      ],
      "metadata": {
        "id": "6lnm7GbYxOkv",
        "outputId": "3dcb531f-8e45-43a9-ca51-8aa6cfae0d53",
        "colab": {
          "base_uri": "https://localhost:8080/"
        }
      },
      "execution_count": null,
      "outputs": [
        {
          "output_type": "stream",
          "name": "stdout",
          "text": [
            "1\n",
            "4\n",
            "9\n",
            "16\n",
            "25\n"
          ]
        }
      ]
    },
    {
      "cell_type": "markdown",
      "source": [
        "# **How to open a file (directory)**"
      ],
      "metadata": {
        "id": "5Ic2nWHDWqdg"
      }
    },
    {
      "cell_type": "code",
      "source": [
        "#https://medium.com/codex/how-to-open-view-files-in-python-e77e3e9d3f1d\n",
        "# Corrected file path using raw string (prefixing 'r')\n",
        "path = r\"C:\\Users\\ckuzey\\OneDrive - murraystate.edu\\Academic_Sabrent\\Murray State\\Courses\\CIS 543_643\\DataFiles\\Auto.xlsx\"\n",
        "import pandas as pd\n",
        "\n",
        "# Read the Excel file using the corrected path\n",
        "df = pd.read_excel(path)\n",
        "\n",
        "# Display the first few rows of the DataFrame\n",
        "df.head()\n",
        "\n",
        "\n",
        "#In Google Colab, you need to upload it."
      ],
      "metadata": {
        "id": "5BdQWEX9WxI6"
      },
      "execution_count": null,
      "outputs": []
    },
    {
      "cell_type": "markdown",
      "source": [
        "# Working Directory"
      ],
      "metadata": {
        "id": "aTzzYIEbXRWu"
      }
    },
    {
      "cell_type": "code",
      "source": [
        "import os\n",
        "\n",
        "# Get the current working directory\n",
        "current_directory = os.getcwd()\n",
        "\n",
        "# Print the current working directory\n",
        "print(\"Current working directory:\", current_directory)\n"
      ],
      "metadata": {
        "colab": {
          "base_uri": "https://localhost:8080/"
        },
        "id": "qhpQzCZ5XU0e",
        "outputId": "41e5d903-2aa3-4c78-f993-fdc9b915aa8a"
      },
      "execution_count": null,
      "outputs": [
        {
          "output_type": "stream",
          "name": "stdout",
          "text": [
            "Current working directory: /content\n"
          ]
        }
      ]
    },
    {
      "cell_type": "code",
      "source": [
        "import os\n",
        "print(os.getcwd())\n",
        "\n",
        "os.chdir(r'C:\\Users\\ckuzey\\OneDrive - murraystate.edu\\Academic_Sabrent\\Textbooks\\Python_books\\MURACH\\murach_python_data_analysis\\python_analysis\\student_download_update')\n",
        "\n",
        "print(os.getcwd())"
      ],
      "metadata": {
        "id": "No_ykL_gb0xI"
      },
      "execution_count": null,
      "outputs": []
    },
    {
      "cell_type": "code",
      "source": [
        "print"
      ],
      "metadata": {
        "id": "p3JpQEtYc79x"
      },
      "execution_count": null,
      "outputs": []
    },
    {
      "cell_type": "markdown",
      "source": [
        "# Important ShortCuts\n",
        "https://www.dataschool.io/jupyter-notebook-keyboard-shortcuts/#:~:text=Shift%20%2B%20Tab%20%3A%20View%20the%20docstring,%3A%20Hit%20Shift%2BTab%20once.\n"
      ],
      "metadata": {
        "id": "oMuIsDmIdr0C"
      }
    },
    {
      "cell_type": "markdown",
      "source": [
        "# Find a file in a pth with \"...\" options\n",
        "gss_stata_filename = '../../data/GSS7218_R3.DTA'\n"
      ],
      "metadata": {
        "id": "B0aK9Qd_eKHW"
      }
    },
    {
      "cell_type": "code",
      "source": [
        "# Removing kernel\n",
        "# use conda prompt\n",
        "jupyter kernelspec list\n",
        "jupyter kernelspec uninstall julia-1.0 # check the list)"
      ],
      "metadata": {
        "id": "DdRJ8FvxBHvp"
      },
      "execution_count": null,
      "outputs": []
    }
  ]
}